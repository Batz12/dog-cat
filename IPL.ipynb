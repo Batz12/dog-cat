{
 "cells": [
  {
   "cell_type": "code",
   "execution_count": 1,
   "metadata": {},
   "outputs": [
    {
     "ename": "NameError",
     "evalue": "name 'NUM_TRAIN_STEPS' is not defined",
     "output_type": "error",
     "traceback": [
      "\u001b[1;31m---------------------------------------------------------------------------\u001b[0m",
      "\u001b[1;31mNameError\u001b[0m                                 Traceback (most recent call last)",
      "\u001b[1;32m<ipython-input-1-e6c5d8c6580f>\u001b[0m in \u001b[0;36m<module>\u001b[1;34m\u001b[0m\n\u001b[0;32m     19\u001b[0m \u001b[1;32mwith\u001b[0m \u001b[0mtf\u001b[0m\u001b[1;33m.\u001b[0m\u001b[0mSession\u001b[0m\u001b[1;33m(\u001b[0m\u001b[1;33m)\u001b[0m \u001b[1;32mas\u001b[0m \u001b[0msess\u001b[0m\u001b[1;33m:\u001b[0m\u001b[1;33m\u001b[0m\u001b[1;33m\u001b[0m\u001b[0m\n\u001b[0;32m     20\u001b[0m   \u001b[0msess\u001b[0m\u001b[1;33m.\u001b[0m\u001b[0mrun\u001b[0m\u001b[1;33m(\u001b[0m\u001b[0mtf\u001b[0m\u001b[1;33m.\u001b[0m\u001b[0mglobal_variables_initializer\u001b[0m\u001b[1;33m(\u001b[0m\u001b[1;33m)\u001b[0m\u001b[1;33m)\u001b[0m\u001b[1;33m\u001b[0m\u001b[1;33m\u001b[0m\u001b[0m\n\u001b[1;32m---> 21\u001b[1;33m   \u001b[1;32mfor\u001b[0m \u001b[0mi\u001b[0m \u001b[1;32min\u001b[0m \u001b[0mrange\u001b[0m\u001b[1;33m(\u001b[0m\u001b[0mNUM_TRAIN_STEPS\u001b[0m\u001b[1;33m)\u001b[0m\u001b[1;33m:\u001b[0m\u001b[1;33m\u001b[0m\u001b[1;33m\u001b[0m\u001b[0m\n\u001b[0m\u001b[0;32m     22\u001b[0m     \u001b[1;31m# Get a random batch of training examples.\u001b[0m\u001b[1;33m\u001b[0m\u001b[1;33m\u001b[0m\u001b[1;33m\u001b[0m\u001b[0m\n\u001b[0;32m     23\u001b[0m     \u001b[0mtrain_batch\u001b[0m \u001b[1;33m=\u001b[0m \u001b[0mget_batch\u001b[0m\u001b[1;33m(\u001b[0m\u001b[0mbatch_size\u001b[0m\u001b[1;33m=\u001b[0m\u001b[0mTRAIN_BATCH_SIZE\u001b[0m\u001b[1;33m)\u001b[0m\u001b[1;33m\u001b[0m\u001b[1;33m\u001b[0m\u001b[0m\n",
      "\u001b[1;31mNameError\u001b[0m: name 'NUM_TRAIN_STEPS' is not defined"
     ]
    }
   ],
   "source": [
    "import tensorflow as tf\n",
    "def get_batch(batch_size=None, test=False):\n",
    "  \"\"\"Get a random batch of examples.\"\"\"\n",
    "  examples = TEST_EXAMPLES if test else TRAIN_EXAMPLES\n",
    "  batch_examples = random.sample(examples, batch_size) if batch_size else examples\n",
    "  return batch_examples\n",
    "\n",
    "def get_images_and_labels(batch_examples):\n",
    "  images = [get_encoded_image(e) for e in batch_examples]\n",
    "  one_hot_labels = [get_label_one_hot(e) for e in batch_examples]\n",
    "  return images, one_hot_labels\n",
    "\n",
    "def get_label_one_hot(example):\n",
    "  \"\"\"Get the one hot encoding vector for the example.\"\"\"\n",
    "  one_hot_vector = np.zeros(NUM_CLASSES)\n",
    "  np.put(one_hot_vector, get_label(example), 1)\n",
    "  return one_hot_vector\n",
    "\n",
    "with tf.Session() as sess:\n",
    "  sess.run(tf.global_variables_initializer())\n",
    "  for i in range(NUM_TRAIN_STEPS):\n",
    "    # Get a random batch of training examples.\n",
    "    train_batch = get_batch(batch_size=TRAIN_BATCH_SIZE)\n",
    "    batch_images, batch_labels = get_images_and_labels(train_batch)\n",
    "    # Run the train_op to train the model.\n",
    "    train_loss, _, train_accuracy = sess.run(\n",
    "        [cross_entropy_mean, train_op, accuracy],\n",
    "        feed_dict={encoded_images: batch_images, labels: batch_labels})\n",
    "    is_final_step = (i == (NUM_TRAIN_STEPS - 1))\n",
    "    if i % EVAL_EVERY == 0 or is_final_step:\n",
    "      # Get a batch of test examples.\n",
    "      test_batch = get_batch(batch_size=None, test=True)\n",
    "      batch_images, batch_labels = get_images_and_labels(test_batch)\n",
    "      # Evaluate how well our model performs on the test set.\n",
    "      test_loss, test_accuracy, test_prediction, correct_predicate = sess.run(\n",
    "        [cross_entropy_mean, accuracy, prediction, correct_prediction],\n",
    "        feed_dict={encoded_images: batch_images, labels: batch_labels})\n",
    "      print('Test accuracy at step %s: %.2f%%' % (i, (test_accuracy * 100)))"
   ]
  },
  {
   "cell_type": "code",
   "execution_count": null,
   "metadata": {},
   "outputs": [],
   "source": []
  },
  {
   "cell_type": "code",
   "execution_count": null,
   "metadata": {},
   "outputs": [],
   "source": []
  }
 ],
 "metadata": {
  "kernelspec": {
   "display_name": "Python 3",
   "language": "python",
   "name": "python3"
  },
  "language_info": {
   "codemirror_mode": {
    "name": "ipython",
    "version": 3
   },
   "file_extension": ".py",
   "mimetype": "text/x-python",
   "name": "python",
   "nbconvert_exporter": "python",
   "pygments_lexer": "ipython3",
   "version": "3.7.4"
  }
 },
 "nbformat": 4,
 "nbformat_minor": 4
}
